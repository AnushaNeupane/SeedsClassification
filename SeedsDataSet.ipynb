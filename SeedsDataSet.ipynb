{
  "nbformat": 4,
  "nbformat_minor": 0,
  "metadata": {
    "colab": {
      "name": "SeedsDataSet.ipynb",
      "provenance": [],
      "collapsed_sections": [],
      "include_colab_link": true
    },
    "kernelspec": {
      "name": "python3",
      "display_name": "Python 3"
    }
  },
  "cells": [
    {
      "cell_type": "markdown",
      "metadata": {
        "id": "view-in-github",
        "colab_type": "text"
      },
      "source": [
        "<a href=\"https://colab.research.google.com/github/AnushaNeupane/SeedsClassification/blob/master/SeedsDataSet.ipynb\" target=\"_parent\"><img src=\"https://colab.research.google.com/assets/colab-badge.svg\" alt=\"Open In Colab\"/></a>"
      ]
    },
    {
      "cell_type": "markdown",
      "metadata": {
        "id": "l69EFYylb9Ye",
        "colab_type": "text"
      },
      "source": [
        "### Seeds Data Set \n",
        "This is one of the machine learning datasets among other from [UC Irvine Machine Learning Repository](https://archive.ics.uci.edu/ml/index.php)"
      ]
    },
    {
      "cell_type": "markdown",
      "metadata": {
        "id": "XSYRMDXEwz-N",
        "colab_type": "text"
      },
      "source": [
        "### Context\n",
        "\n",
        "A seed is an embryonic plant enclosed in a protective outer covering. The formation of the seed is part of the process of reproduction in seed plants, the spermatophytes, including the gymnosperm and angiosperm plants. "
      ]
    },
    {
      "cell_type": "markdown",
      "metadata": {
        "id": "VBTUm1beyxtB",
        "colab_type": "text"
      },
      "source": [
        "### Data Set Information:\n",
        "\n",
        "The examined group comprised kernels belonging to three different varieties of wheat:\n",
        "1. Kama\n",
        "2. Rosa\n",
        "3. Canadian\n",
        "among 70 elements each, randomly selected for\n",
        "the experiment. \n",
        "\n",
        "High quality visualization of the internal kernel structure was detected using a soft X-ray technique. It is non-destructive and considerably cheaper than other more sophisticated imaging techniques like scanning microscopy or laser technology. The images were recorded on 13x18 cm X-ray KODAK plates. Studies were conducted using combine harvested wheat grain originating from experimental fields, explored at the Institute of Agrophysics of the Polish Academy of Sciences in Lublin.\n",
        "\n",
        "The data set can be used for the tasks of classification and cluster analysis.\n",
        "\n",
        "The data is from: https://archive.ics.uci.edu/ml/datasets/seeds\n",
        "\n"
      ]
    },
    {
      "cell_type": "markdown",
      "metadata": {
        "id": "DloxuoDMajLP",
        "colab_type": "text"
      },
      "source": [
        "### Fetch the data \n",
        "Now we fetch the data from the CSV file. "
      ]
    },
    {
      "cell_type": "markdown",
      "metadata": {
        "id": "0D71SubrdsaC",
        "colab_type": "text"
      },
      "source": [
        "### Clean and preprocess the data\n",
        "* The dependent variable is ** score **.\n",
        "* The column id will not be used.\n",
        "\n",
        "The last one variable is the only dependent variable over here.\n"
      ]
    },
    {
      "cell_type": "markdown",
      "metadata": {
        "id": "euqTaIBFdsmv",
        "colab_type": "text"
      },
      "source": [
        "## Logistic Regression\n",
        "Logistic regression is a linear statistical model that is often used as classifies. The parameter selection information can be found here."
      ]
    }
  ]
}